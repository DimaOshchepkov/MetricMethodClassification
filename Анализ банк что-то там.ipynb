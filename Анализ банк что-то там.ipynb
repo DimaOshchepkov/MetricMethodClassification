{
 "cells": [
  {
   "cell_type": "code",
   "execution_count": null,
   "metadata": {},
   "outputs": [],
   "source": [
    "import numpy as np\n",
    "import matplotlib.pyplot as plt\n",
    "import pandas as pd\n",
    "import seaborn as sns\n",
    "import itertools as it\n",
    "from MetricMethod import *\n",
    "from phik import phik_matrix\n",
    "from sklearn.model_selection import train_test_split\n",
    "from sklearn.neighbors import KNeighborsClassifier\n",
    "from imblearn.over_sampling import SMOTE\n",
    "from sklearn.metrics import f1_score, precision_score, recall_score, accuracy_score"
   ]
  },
  {
   "cell_type": "code",
   "execution_count": null,
   "metadata": {},
   "outputs": [],
   "source": [
    "df = pd.read_csv(\"Bank Customer Churn Prediction.csv\")\n",
    "df.info()"
   ]
  },
  {
   "cell_type": "code",
   "execution_count": null,
   "metadata": {},
   "outputs": [],
   "source": [
    "df['credit_score'].describe()"
   ]
  },
  {
   "cell_type": "code",
   "execution_count": null,
   "metadata": {},
   "outputs": [],
   "source": [
    "for coulumn in it.filterfalse(lambda x: x in \n",
    "                            set(['customer_id', 'country', 'gender', 'churn', 'products_number']),\n",
    "                            it.islice(df.columns, 0, None)):\n",
    "    mean = df[coulumn].mean()\n",
    "    std = df[coulumn].std()\n",
    "\n",
    "    lower_limit = mean - 3 * std\n",
    "    upper_limit = mean + 3 * std\n",
    "\n",
    "    ind = (df[coulumn] < lower_limit) | (df[coulumn] > upper_limit)\n",
    "    out = df[ind][['customer_id', coulumn]]\n",
    "    if len(out) > 0:\n",
    "        print(lower_limit, upper_limit)\n",
    "        print(out)\n"
   ]
  },
  {
   "cell_type": "code",
   "execution_count": null,
   "metadata": {},
   "outputs": [],
   "source": [
    "df['gender'].value_counts().plot.bar(grid=True, figsize=(4, 4))"
   ]
  },
  {
   "cell_type": "code",
   "execution_count": null,
   "metadata": {},
   "outputs": [],
   "source": [
    "df['country'].value_counts().plot.bar(grid=True, figsize=(4, 4))"
   ]
  },
  {
   "cell_type": "code",
   "execution_count": null,
   "metadata": {},
   "outputs": [],
   "source": [
    "df.groupby('gender')['churn'].count().plot.bar(ylabel='count')"
   ]
  },
  {
   "cell_type": "code",
   "execution_count": null,
   "metadata": {},
   "outputs": [],
   "source": [
    "df['churn'].value_counts().plot.bar(grid=True).set_title(\"churn\")\n",
    "plt.ylabel(\"count\")\n",
    "plt.show()"
   ]
  },
  {
   "cell_type": "code",
   "execution_count": null,
   "metadata": {},
   "outputs": [],
   "source": [
    "t = df.drop(columns=['customer_id', ])\n",
    "t.hist(figsize=(8, 12), xrot=15)\n"
   ]
  },
  {
   "cell_type": "code",
   "execution_count": null,
   "metadata": {},
   "outputs": [],
   "source": [
    "t = df.drop(columns=['customer_id', 'active_member', 'country', 'gender',\n",
    "                      'churn', 'products_number', 'credit_card'])\n",
    "\n",
    "# Получение количества колонок\n",
    "num_columns = len(t.columns)\n",
    "\n",
    "# Расчет количества строк и столбцов для сетки\n",
    "num_rows = int((num_columns + 1) / 2)  # Округляем вверх до ближайшего целого числа\n",
    "\n",
    "# Создание сетки подграфиков\n",
    "fig, axes = plt.subplots(num_rows, 2, figsize=(8, 10))\n",
    "\n",
    "# Распаковка двумерного массива осей в одномерный массив\n",
    "axes = axes.flatten()\n",
    "\n",
    "# Построение ящиковых диаграмм для каждой колонки\n",
    "for i, column in enumerate(t.columns):\n",
    "    # Построение ящиковой диаграммы для текущей колонки\n",
    "    axes[i].boxplot(t[column].astype(float))\n",
    "    axes[i].grid(True)\n",
    "    \n",
    "    # Установка заголовка для текущего графика\n",
    "    axes[i].set_title(column)\n",
    "\n",
    "# Удаление пустых подграфиков\n",
    "if num_columns % 2 != 0:\n",
    "    fig.delaxes(axes[-1])\n",
    "\n",
    "# Расположение подграфиков\n",
    "fig.tight_layout()\n",
    "\n",
    "# Отображение графиков\n",
    "plt.show()"
   ]
  },
  {
   "cell_type": "code",
   "execution_count": null,
   "metadata": {},
   "outputs": [],
   "source": [
    "t = df[['active_member', 'country', 'gender',\n",
    "                      'churn', 'products_number', 'credit_card']]\n",
    "\n",
    "# Получение количества колонок\n",
    "num_columns = len(t.columns)\n",
    "\n",
    "# Расчет количества строк и столбцов для сетки\n",
    "num_rows = int((num_columns + 1) / 2)  # Округляем вверх до ближайшего целого числа\n",
    "\n",
    "# Создание сетки подграфиков\n",
    "fig, axes = plt.subplots(num_rows, 2, figsize=(8, 10))\n",
    "\n",
    "# Распаковка двумерного массива осей в одномерный массив\n",
    "axes = axes.flatten()\n",
    "\n",
    "# Построение ящиковых диаграмм для каждой колонки\n",
    "for i, column in enumerate(t.columns):\n",
    "    # Построение ящиковой диаграммы для текущей колонки\n",
    "    #axes[i].plot(t[column], kind='bar')\n",
    "    t[column].value_counts().plot(kind='bar', ax=axes[i])\n",
    "    axes[i].grid(True)\n",
    "    \n",
    "    # Установка заголовка для текущего графика\n",
    "    axes[i].set_title(column)\n",
    "\n",
    "# Удаление пустых подграфиков\n",
    "if num_columns % 2 != 0:\n",
    "    fig.delaxes(axes[-1])\n",
    "\n",
    "# Расположение подграфиков\n",
    "fig.tight_layout()\n",
    "\n",
    "# Отображение графиков\n",
    "plt.show()"
   ]
  },
  {
   "cell_type": "code",
   "execution_count": null,
   "metadata": {},
   "outputs": [],
   "source": [
    "df.corr().round(4)"
   ]
  },
  {
   "cell_type": "code",
   "execution_count": null,
   "metadata": {},
   "outputs": [],
   "source": [
    "phik_matrix(df)"
   ]
  },
  {
   "cell_type": "code",
   "execution_count": null,
   "metadata": {},
   "outputs": [],
   "source": [
    "df.groupby('country')['estimated_salary'].agg(['mean', 'median']).plot.bar(ylabel='estimated_salary', grid = True)"
   ]
  },
  {
   "cell_type": "code",
   "execution_count": null,
   "metadata": {},
   "outputs": [],
   "source": [
    "df.boxplot(column='estimated_salary', by='country', grid=True)\n",
    "\n",
    "    \n"
   ]
  },
  {
   "cell_type": "code",
   "execution_count": null,
   "metadata": {},
   "outputs": [],
   "source": [
    "t = df.copy()\n",
    "t['group_age'] = pd.qcut(t['age'], 5)\n",
    "t.boxplot(column='balance', by='group_age')"
   ]
  },
  {
   "cell_type": "code",
   "execution_count": null,
   "metadata": {},
   "outputs": [],
   "source": [
    "t.hist(column='balance', by='group_age', figsize=(8, 15))"
   ]
  },
  {
   "cell_type": "code",
   "execution_count": null,
   "metadata": {},
   "outputs": [],
   "source": [
    "t.hist(column='products_number', by='group_age', figsize=(8, 13))\n",
    "\n",
    "# Настройка внешнего вида графика и добавление названия\n",
    "plt.suptitle('Гистограмма типа продукта по возрастным группам')\n",
    "\n",
    "# Показываем график\n",
    "plt.show()"
   ]
  },
  {
   "cell_type": "code",
   "execution_count": null,
   "metadata": {},
   "outputs": [],
   "source": [
    "t.hist(column='products_number', by='churn')\n",
    "\n",
    "# Настройка внешнего вида графика и добавление названия\n",
    "plt.suptitle('products_number group by churn')\n",
    "\n",
    "# Показываем график\n",
    "plt.show()"
   ]
  },
  {
   "cell_type": "code",
   "execution_count": null,
   "metadata": {},
   "outputs": [],
   "source": [
    "df.groupby('credit_card')['credit_card'].count().plot.bar(grid=True, ylabel='count')"
   ]
  },
  {
   "cell_type": "code",
   "execution_count": null,
   "metadata": {},
   "outputs": [],
   "source": [
    "t.hist(column='active_member', by='churn')\n",
    "# Настройка внешнего вида графика и добавление названия\n",
    "plt.suptitle('active_member group by churn')\n",
    "\n",
    "# Показываем график\n",
    "plt.show()"
   ]
  },
  {
   "cell_type": "code",
   "execution_count": null,
   "metadata": {},
   "outputs": [],
   "source": [
    "t.hist(column='country', by='churn')\n",
    "# Настройка внешнего вида графика и добавление названия\n",
    "plt.suptitle('country group by churn')\n",
    "\n",
    "# Показываем график\n",
    "plt.show()"
   ]
  },
  {
   "cell_type": "code",
   "execution_count": null,
   "metadata": {},
   "outputs": [],
   "source": [
    "t.boxplot(column='age', by='group_age', figsize=(8, 10))\n",
    "\n",
    "plt.suptitle('age group by group_age')\n",
    "\n",
    "# Показываем график\n",
    "plt.show()"
   ]
  },
  {
   "cell_type": "code",
   "execution_count": null,
   "metadata": {},
   "outputs": [],
   "source": [
    "df_processed = pd.get_dummies(df, columns=['country', 'gender'], drop_first=True)\n",
    "df_processed = df_processed.drop(columns='customer_id')\n",
    "df_processed"
   ]
  },
  {
   "cell_type": "code",
   "execution_count": null,
   "metadata": {},
   "outputs": [],
   "source": [
    "from sklearn import preprocessing\n",
    "\n",
    "scaler = preprocessing.MinMaxScaler()\n",
    "\n",
    "names = df_processed.columns\n",
    "d = scaler.fit_transform(df_processed)\n",
    "\n",
    "df_processed = pd.DataFrame(d, columns=names)\n",
    "df_processed.head()"
   ]
  },
  {
   "cell_type": "code",
   "execution_count": null,
   "metadata": {},
   "outputs": [],
   "source": [
    "# Разделите датафрейм на тренировочный и остаточный набор данных\n",
    "train_df, temp_df = train_test_split(df_processed, test_size=0.3, random_state=42)\n",
    "\n",
    "train_X = train_df.drop(columns='churn')\n",
    "train_y = train_df['churn']\n",
    "\n",
    "# Разделите остаточный набор данных на валидационный и тестовый наборы данных\n",
    "val_df, test_df = train_test_split(temp_df, test_size=0.5, random_state=42)\n",
    "\n",
    "val_X = val_df.drop(columns='churn')\n",
    "val_y = val_df['churn']\n",
    "\n",
    "test_X = test_df.drop(columns='churn')\n",
    "test_y = test_df['churn']\n",
    "\n",
    "# Выведите размеры полученных наборов данных\n",
    "print(\"Размер тренировочного набора данных:\", train_df.shape)\n",
    "print(\"Размер валидационного набора данных:\", val_df.shape)\n",
    "print(\"Размер тестового набора данных:\", test_df.shape)"
   ]
  },
  {
   "cell_type": "code",
   "execution_count": null,
   "metadata": {},
   "outputs": [],
   "source": [
    "train_X.head()"
   ]
  },
  {
   "cell_type": "code",
   "execution_count": null,
   "metadata": {},
   "outputs": [],
   "source": [
    "k = 3\n",
    "model = KNeighborsClassifier(n_neighbors=k, weights='distance')\n",
    "model.fit(train_X, train_y)\n",
    "pred_y = model.predict(test_X)\n",
    "\n",
    "print(f'Accuracy {accuracy_score(test_y, pred_y)}')\n",
    "print(f'F1 {f1_score(test_y, pred_y)}')\n",
    "print(f'Precision {precision_score(test_y, pred_y)}')\n",
    "print(f'Recall {recall_score(test_y, pred_y)}')"
   ]
  },
  {
   "cell_type": "code",
   "execution_count": null,
   "metadata": {},
   "outputs": [],
   "source": [
    "k = 1\n",
    "model = KNeighborsClassifier(n_neighbors=k)\n",
    "model.fit(train_X, train_y)\n",
    "pred_y = model.predict(test_X)\n",
    "\n",
    "print(f'Accuracy {accuracy_score(test_y, pred_y)}')\n",
    "print(f'F1 {f1_score(test_y, pred_y)}')\n",
    "print(f'Precision {precision_score(test_y, pred_y)}')\n",
    "print(f'Recall {recall_score(test_y, pred_y)}')"
   ]
  },
  {
   "cell_type": "code",
   "execution_count": null,
   "metadata": {},
   "outputs": [],
   "source": [
    "smote = SMOTE()\n",
    "train_X_sm, train_y_sm = smote.fit_resample(train_X, train_y)"
   ]
  },
  {
   "cell_type": "code",
   "execution_count": null,
   "metadata": {},
   "outputs": [],
   "source": [
    "k = 1\n",
    "model = KNeighborsClassifier(n_neighbors=k)\n",
    "model.fit(train_X_sm, train_y_sm)\n",
    "pred_y = model.predict(test_X)\n",
    "\n",
    "print(f'Accuracy {round(accuracy_score(test_y, pred_y), 4)}')\n",
    "print(f'F1 {round(f1_score(test_y, pred_y), 4)}')\n",
    "print(f'Precision {round(precision_score(test_y, pred_y), 4)}')\n",
    "print(f'Recall {round(recall_score(test_y, pred_y), 4)}')"
   ]
  },
  {
   "cell_type": "code",
   "execution_count": null,
   "metadata": {},
   "outputs": [],
   "source": [
    "model = KNN(countNeigbor=1)\n",
    "model.fit(train_X_sm, train_y_sm)\n",
    "pred_y = model.predict(test_X)\n",
    "\n",
    "print(f'Accuracy {round(accuracy_score(test_y, pred_y), 4)}')\n",
    "print(f'F1 {round(f1_score(test_y, pred_y), 4)}')\n",
    "print(f'Precision {round(precision_score(test_y, pred_y), 4)}')\n",
    "print(f'Recall {round(recall_score(test_y, pred_y), 4)}')"
   ]
  },
  {
   "cell_type": "code",
   "execution_count": null,
   "metadata": {},
   "outputs": [],
   "source": [
    "model = KNN_weight(countNeigbor=1)\n",
    "model.fit(train_X_sm, train_y_sm)\n",
    "pred_y = model.predict(test_X)\n",
    "\n",
    "print(f'Accuracy {round(accuracy_score(test_y, pred_y), 4)}')\n",
    "print(f'F1 {round(f1_score(test_y, pred_y), 4)}')\n",
    "print(f'Precision {round(precision_score(test_y, pred_y), 4)}')\n",
    "print(f'Recall {round(recall_score(test_y, pred_y), 4)}')"
   ]
  },
  {
   "cell_type": "code",
   "execution_count": null,
   "metadata": {},
   "outputs": [],
   "source": [
    "model = ParzenWindowVariableWidth(countNeighbor=3)\n",
    "model.fit(train_X_sm, train_y_sm)\n",
    "pred_y = model.predict(test_X)\n",
    "\n",
    "print(f'Accuracy {round(accuracy_score(test_y, pred_y), 4)}')\n",
    "print(f'F1 {round(f1_score(test_y, pred_y), 4)}')\n",
    "print(f'Precision {round(precision_score(test_y, pred_y), 4)}')\n",
    "print(f'Recall {round(recall_score(test_y, pred_y), 4)}')"
   ]
  },
  {
   "cell_type": "code",
   "execution_count": null,
   "metadata": {},
   "outputs": [],
   "source": [
    "model = ParzenWindowFixedWidth(width=0.4)\n",
    "model.fit(train_X_sm, train_y_sm)\n",
    "pred_y = model.predict(test_X)\n",
    "\n",
    "print(f'Accuracy {round(accuracy_score(test_y, pred_y), 4)}')\n",
    "print(f'F1 {round(f1_score(test_y, pred_y), 4)}')\n",
    "print(f'Precision {round(precision_score(test_y, pred_y), 4)}')\n",
    "print(f'Recall {round(recall_score(test_y, pred_y), 4)}')"
   ]
  },
  {
   "cell_type": "code",
   "execution_count": null,
   "metadata": {},
   "outputs": [],
   "source": [
    "model = PotentialFunction(width=0.4, eps=0.5, method='kdtree')\n",
    "model.fit(train_X_sm, train_y_sm)\n",
    "pred_y = model.predict(test_X)\n",
    "\n",
    "print(f'Accuracy {round(accuracy_score(test_y, pred_y), 4)}')\n",
    "print(f'F1 {round(f1_score(test_y, pred_y), 4)}')\n",
    "print(f'Precision {round(precision_score(test_y, pred_y), 4)}')\n",
    "print(f'Recall {round(recall_score(test_y, pred_y), 4)}')"
   ]
  },
  {
   "cell_type": "code",
   "execution_count": null,
   "metadata": {},
   "outputs": [],
   "source": [
    "y_pred = np.array([0 for i in range(len(test_y))])\n",
    "accuracy_score(test_y, pred_y)"
   ]
  }
 ],
 "metadata": {
  "kernelspec": {
   "display_name": "Python 3",
   "language": "python",
   "name": "python3"
  },
  "language_info": {
   "codemirror_mode": {
    "name": "ipython",
    "version": 3
   },
   "file_extension": ".py",
   "mimetype": "text/x-python",
   "name": "python",
   "nbconvert_exporter": "python",
   "pygments_lexer": "ipython3",
   "version": "3.11.0"
  },
  "orig_nbformat": 4
 },
 "nbformat": 4,
 "nbformat_minor": 2
}
