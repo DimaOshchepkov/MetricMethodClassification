{
 "cells": [
  {
   "cell_type": "code",
   "execution_count": null,
   "metadata": {},
   "outputs": [],
   "source": [
    "import numpy as np\n",
    "import matplotlib.pyplot as plt\n",
    "import pandas as pd\n",
    "import seaborn as sns\n",
    "import itertools as it\n",
    "from MetricMethod import *\n",
    "from phik import phik_matrix\n",
    "from sklearn.model_selection import train_test_split\n",
    "from sklearn.neighbors import KNeighborsClassifier\n",
    "from imblearn.over_sampling import SMOTE\n",
    "from sklearn.metrics import f1_score, precision_score, recall_score, accuracy_score"
   ]
  },
  {
   "cell_type": "code",
   "execution_count": null,
   "metadata": {},
   "outputs": [],
   "source": [
    "train = pd.read_csv(\"train_phone.csv\")\n",
    "test = pd.read_csv(\"test_phote.csv\")\n",
    "df = pd.concat([train, test])\n",
    "df = df.drop(columns='id')\n",
    "df.info()"
   ]
  },
  {
   "cell_type": "code",
   "execution_count": null,
   "metadata": {},
   "outputs": [],
   "source": [
    "df.head()"
   ]
  },
  {
   "cell_type": "code",
   "execution_count": null,
   "metadata": {},
   "outputs": [],
   "source": [
    "len(df.columns)"
   ]
  },
  {
   "cell_type": "code",
   "execution_count": null,
   "metadata": {},
   "outputs": [],
   "source": [
    "t = df.iloc[:, 0:9]\n",
    "t.hist(figsize=(8, 12), xrot=15)"
   ]
  },
  {
   "cell_type": "code",
   "execution_count": null,
   "metadata": {},
   "outputs": [],
   "source": [
    "t = df.iloc[:, 9:]\n",
    "t.hist(figsize=(8, 12), xrot=15)"
   ]
  },
  {
   "cell_type": "code",
   "execution_count": null,
   "metadata": {},
   "outputs": [],
   "source": [
    "def draw_box_plot(df: pd.DataFrame):\n",
    "    t = df\n",
    "    # Получение количества колонок\n",
    "    num_columns = len(t.columns)\n",
    "\n",
    "    # Расчет количества строк и столбцов для сетки\n",
    "    num_rows = int((num_columns + 1) / 2)  # Округляем вверх до ближайшего целого числа\n",
    "\n",
    "    # Создание сетки подграфиков\n",
    "    fig, axes = plt.subplots(num_rows, 2, figsize=(8, 12))\n",
    "\n",
    "    # Распаковка двумерного массива осей в одномерный массив\n",
    "    axes = axes.flatten()\n",
    "\n",
    "    # Построение ящиковых диаграмм для каждой колонки\n",
    "    for i, column in enumerate(t.columns):\n",
    "        # Построение ящиковой диаграммы для текущей колонки\n",
    "        axes[i].boxplot(t[column].astype(float))\n",
    "        axes[i].grid(True)\n",
    "        \n",
    "        # Установка заголовка для текущего графика\n",
    "        axes[i].set_title(column)\n",
    "\n",
    "    # Удаление пустых подграфиков\n",
    "    if num_columns % 2 != 0:\n",
    "        fig.delaxes(axes[-1])\n",
    "\n",
    "    # Расположение подграфиков\n",
    "    fig.tight_layout()\n",
    "\n",
    "    # Отображение графиков\n",
    "    plt.show()"
   ]
  },
  {
   "cell_type": "code",
   "execution_count": null,
   "metadata": {},
   "outputs": [],
   "source": [
    "t = df.drop(columns=['three_g', 'wifi', 'touch_screen', 'price_range', 'blue'])\n",
    "draw_box_plot(t.iloc[:, 0:8])"
   ]
  },
  {
   "cell_type": "code",
   "execution_count": null,
   "metadata": {},
   "outputs": [],
   "source": [
    "draw_box_plot(t.iloc[:, 8:])"
   ]
  },
  {
   "cell_type": "code",
   "execution_count": null,
   "metadata": {},
   "outputs": [],
   "source": [
    "for coulumn in it.filterfalse(lambda x: x in \n",
    "                            set(['three_g', 'wifi', 'touch_screen', 'price_range', 'blue', 'id']),\n",
    "                            it.islice(df.columns, 0, None)):\n",
    "    mean = df[coulumn].mean()\n",
    "    std = df[coulumn].std()\n",
    "\n",
    "    lower_limit = mean - 3 * std\n",
    "    upper_limit = mean + 3 * std\n",
    "\n",
    "    ind = (df[coulumn] < lower_limit) | (df[coulumn] > upper_limit)\n",
    "    out = df[ind][[coulumn, 'price_range']]\n",
    "    if len(out) > 0:\n",
    "        print(f'Нижняя граница {lower_limit}')\n",
    "        print(f'Верхняя граница {upper_limit}')\n",
    "        print(f'Количество {len(out)}')\n",
    "        print(out)"
   ]
  },
  {
   "cell_type": "code",
   "execution_count": null,
   "metadata": {},
   "outputs": [],
   "source": [
    "phik_matrix(train)"
   ]
  },
  {
   "cell_type": "code",
   "execution_count": null,
   "metadata": {},
   "outputs": [],
   "source": [
    "train.corr()"
   ]
  },
  {
   "cell_type": "code",
   "execution_count": null,
   "metadata": {},
   "outputs": [],
   "source": [
    "def print_score(pred_y, test_y):\n",
    "    print(f'Accuracy {round(accuracy_score(test_y, pred_y), 4)}')\n",
    "    print(f\"F1 {round(f1_score(test_y, pred_y, average='weighted'), 4)}\")\n",
    "    print(f\"Precision {round(precision_score(test_y, pred_y, average='weighted'), 4)}\")\n",
    "    print(f\"Recall {round(recall_score(test_y, pred_y, average='weighted'), 4)}\")\n",
    "    "
   ]
  },
  {
   "cell_type": "code",
   "execution_count": null,
   "metadata": {},
   "outputs": [],
   "source": [
    "X_train, X_test, y_train, y_test = train_test_split(train.drop(columns='price_range'),\n",
    "                                                    train['price_range'],\n",
    "                                                    test_size=0.2, random_state=42)"
   ]
  },
  {
   "cell_type": "code",
   "execution_count": null,
   "metadata": {},
   "outputs": [],
   "source": [
    "X_train.head()"
   ]
  },
  {
   "cell_type": "code",
   "execution_count": null,
   "metadata": {},
   "outputs": [],
   "source": [
    "from sklearn import preprocessing\n",
    "\n",
    "scaler = preprocessing.MinMaxScaler()\n",
    "\n",
    "names = X_train.columns\n",
    "d = scaler.fit_transform(X_train)\n",
    "\n",
    "X_train = pd.DataFrame(d, columns=names)\n",
    "print(len(X_train))\n",
    "X_train.head()"
   ]
  },
  {
   "cell_type": "code",
   "execution_count": null,
   "metadata": {},
   "outputs": [],
   "source": [
    "names = X_test.columns\n",
    "d = scaler.fit_transform(X_test)\n",
    "\n",
    "X_test = pd.DataFrame(d, columns=names)\n",
    "print(len(X_test))\n",
    "X_test.head()"
   ]
  },
  {
   "cell_type": "code",
   "execution_count": null,
   "metadata": {},
   "outputs": [],
   "source": [
    "model = KNeighborsClassifier(n_neighbors=200, weights='distance')\n",
    "model.fit(X_train, y_train)\n",
    "y_pred = model.predict(X_test)\n",
    "print_score(y_pred, y_test)"
   ]
  },
  {
   "cell_type": "code",
   "execution_count": null,
   "metadata": {},
   "outputs": [],
   "source": [
    "model = KNN(countNeigbor=200, method='kdtree')\n",
    "model.fit(X_train, y_train)\n",
    "y_pred = model.predict(X_test)\n",
    "print_score(y_pred, y_test)"
   ]
  },
  {
   "cell_type": "code",
   "execution_count": null,
   "metadata": {},
   "outputs": [],
   "source": [
    "model = KNN_weight(countNeigbor=200, method='kdtree')\n",
    "model.fit(X_train, y_train)\n",
    "y_pred = model.predict(X_test)\n",
    "print_score(y_pred, y_test)"
   ]
  },
  {
   "cell_type": "code",
   "execution_count": null,
   "metadata": {},
   "outputs": [],
   "source": [
    "model = ParzenWindowFixedWidth(width=2.1, method='kdtree')\n",
    "model.fit(X_train, y_train)\n",
    "y_pred = model.predict(X_test)\n",
    "print_score(y_pred, y_test)"
   ]
  },
  {
   "cell_type": "code",
   "execution_count": null,
   "metadata": {},
   "outputs": [],
   "source": [
    "model = ParzenWindowVariableWidth(countNeighbor=200, method='kdtree')\n",
    "model.fit(X_train, y_train)\n",
    "y_pred = model.predict(X_test)\n",
    "print_score(y_pred, y_test)"
   ]
  },
  {
   "cell_type": "code",
   "execution_count": null,
   "metadata": {},
   "outputs": [],
   "source": [
    "model = PotentialFunction(width=2.1, eps=0.6, method='kdtree')\n",
    "model.fit(X_train, y_train)\n",
    "y_pred = model.predict(X_test)\n",
    "print_score(y_pred, y_test)"
   ]
  }
 ],
 "metadata": {
  "kernelspec": {
   "display_name": "Python 3",
   "language": "python",
   "name": "python3"
  },
  "language_info": {
   "codemirror_mode": {
    "name": "ipython",
    "version": 3
   },
   "file_extension": ".py",
   "mimetype": "text/x-python",
   "name": "python",
   "nbconvert_exporter": "python",
   "pygments_lexer": "ipython3",
   "version": "3.10.6"
  },
  "orig_nbformat": 4
 },
 "nbformat": 4,
 "nbformat_minor": 2
}
