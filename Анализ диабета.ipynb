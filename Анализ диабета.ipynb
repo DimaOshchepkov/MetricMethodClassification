{
 "cells": [
  {
   "cell_type": "code",
   "execution_count": null,
   "metadata": {},
   "outputs": [],
   "source": [
    "import numpy as np\n",
    "import matplotlib.pyplot as plt\n",
    "import pandas as pd\n",
    "import seaborn as sns\n",
    "import itertools as it\n",
    "from MetricMethod import *\n",
    "from phik import phik_matrix\n",
    "from sklearn.model_selection import train_test_split\n",
    "from sklearn.neighbors import KNeighborsClassifier\n",
    "from imblearn.over_sampling import SMOTE\n",
    "from sklearn.metrics import f1_score, precision_score, recall_score, accuracy_score"
   ]
  },
  {
   "cell_type": "code",
   "execution_count": null,
   "metadata": {},
   "outputs": [],
   "source": [
    "df = pd.read_csv(\"diabetes_prediction_dataset.csv\")\n",
    "df.head()"
   ]
  },
  {
   "cell_type": "code",
   "execution_count": null,
   "metadata": {},
   "outputs": [],
   "source": [
    "df.info()"
   ]
  },
  {
   "cell_type": "code",
   "execution_count": null,
   "metadata": {},
   "outputs": [],
   "source": [
    "for coulumn in it.filterfalse(lambda x: x in \n",
    "                            set(['gender', 'hypertension', 'heart_disease', 'smoking_history', 'diabetes']),\n",
    "                            it.islice(df.columns, 0, None)):\n",
    "    mean = df[coulumn].mean()\n",
    "    std = df[coulumn].std()\n",
    "\n",
    "    lower_limit = mean - 3 * std\n",
    "    upper_limit = mean + 3 * std\n",
    "\n",
    "    ind = (df[coulumn] < lower_limit) | (df[coulumn] > upper_limit)\n",
    "    out = df[ind][[coulumn, 'diabetes']]\n",
    "    if len(out) > 0:\n",
    "        print(f'Нижняя граница {lower_limit}')\n",
    "        print(f'Верхняя граница {upper_limit}')\n",
    "        print(f'Количество {len(out)}')\n",
    "        print(out)"
   ]
  },
  {
   "cell_type": "code",
   "execution_count": null,
   "metadata": {},
   "outputs": [],
   "source": [
    "for coulumn in it.filterfalse(lambda x: x in \n",
    "                            set(['gender', 'hypertension', 'heart_disease', 'smoking_history', 'diabetes']),\n",
    "                            it.islice(df.columns, 0, None)):\n",
    "    mean = df[coulumn].mean()\n",
    "    std = df[coulumn].std()\n",
    "\n",
    "    lower_limit = mean - 3 * std\n",
    "    upper_limit = mean + 3 * std\n",
    "\n",
    "    ind = (df[coulumn] < lower_limit) | (df[coulumn] > upper_limit)\n",
    "    ind_low = (df[coulumn] < lower_limit)\n",
    "    ind_high = (df[coulumn] > upper_limit)\n",
    "    out_low = df[ind_low][[coulumn, 'diabetes']]\n",
    "    out_high = df[ind_high][[coulumn, 'diabetes']]\n",
    "    out = df[ind][[coulumn, 'diabetes']]\n",
    "    if len(out) > 0:\n",
    "        print(out.groupby('diabetes')[coulumn].count())\n",
    "    if len(out_low) > 0:\n",
    "        print(out_low.groupby('diabetes')[coulumn].count())   \n",
    "    if len(out_high) > 0:\n",
    "        print(out_high.groupby('diabetes')[coulumn].count())\n",
    "    print(\"____________________________\")"
   ]
  },
  {
   "cell_type": "code",
   "execution_count": null,
   "metadata": {},
   "outputs": [],
   "source": [
    "df['gender'].value_counts()\n"
   ]
  },
  {
   "cell_type": "code",
   "execution_count": null,
   "metadata": {},
   "outputs": [],
   "source": [
    "\n",
    "df.hist(figsize=(9, 12), xrot=15)"
   ]
  },
  {
   "cell_type": "code",
   "execution_count": null,
   "metadata": {},
   "outputs": [],
   "source": [
    "t = df.drop(columns=['gender', 'hypertension', 'heart_disease', 'smoking_history', 'diabetes'])\n",
    "\n",
    "# Получение количества колонок\n",
    "num_columns = len(t.columns)\n",
    "\n",
    "# Расчет количества строк и столбцов для сетки\n",
    "num_rows = int((num_columns + 1) / 2)  # Округляем вверх до ближайшего целого числа\n",
    "\n",
    "# Создание сетки подграфиков\n",
    "fig, axes = plt.subplots(num_rows, 2, figsize=(8, 10))\n",
    "\n",
    "# Распаковка двумерного массива осей в одномерный массив\n",
    "axes = axes.flatten()\n",
    "\n",
    "# Построение ящиковых диаграмм для каждой колонки\n",
    "for i, column in enumerate(t.columns):\n",
    "    # Построение ящиковой диаграммы для текущей колонки\n",
    "    axes[i].boxplot(t[column].astype(float))\n",
    "    axes[i].grid(True)\n",
    "    \n",
    "    # Установка заголовка для текущего графика\n",
    "    axes[i].set_title(column)\n",
    "\n",
    "# Удаление пустых подграфиков\n",
    "if num_columns % 2 != 0:\n",
    "    fig.delaxes(axes[-1])\n",
    "\n",
    "# Расположение подграфиков\n",
    "fig.tight_layout()\n",
    "\n",
    "# Отображение графиков\n",
    "plt.show()"
   ]
  },
  {
   "cell_type": "code",
   "execution_count": null,
   "metadata": {},
   "outputs": [],
   "source": [
    "df.corr().round(4)"
   ]
  },
  {
   "cell_type": "code",
   "execution_count": null,
   "metadata": {},
   "outputs": [],
   "source": [
    "phik_matrix(df).round(4)"
   ]
  },
  {
   "cell_type": "code",
   "execution_count": null,
   "metadata": {},
   "outputs": [],
   "source": [
    "t = df[['gender', 'hypertension', 'heart_disease', 'smoking_history', 'diabetes']]\n",
    "\n",
    "# Получение количества колонок\n",
    "num_columns = len(t.columns)\n",
    "\n",
    "# Расчет количества строк и столбцов для сетки\n",
    "num_rows = int((num_columns + 1) / 2)  # Округляем вверх до ближайшего целого числа\n",
    "\n",
    "# Создание сетки подграфиков\n",
    "fig, axes = plt.subplots(num_rows, 2, figsize=(8, 10))\n",
    "\n",
    "# Распаковка двумерного массива осей в одномерный массив\n",
    "axes = axes.flatten()\n",
    "\n",
    "# Построение ящиковых диаграмм для каждой колонки\n",
    "for i, column in enumerate(t.columns):\n",
    "    # Построение ящиковой диаграммы для текущей колонки\n",
    "    #axes[i].plot(t[column], kind='bar')\n",
    "    t[column].value_counts().plot(kind='bar', ax=axes[i])\n",
    "    axes[i].grid(True)\n",
    "    \n",
    "    # Установка заголовка для текущего графика\n",
    "    axes[i].set_title(column)\n",
    "\n",
    "# Удаление пустых подграфиков\n",
    "if num_columns % 2 != 0:\n",
    "    fig.delaxes(axes[-1])\n",
    "\n",
    "# Расположение подграфиков\n",
    "fig.tight_layout()\n",
    "\n",
    "# Отображение графиков\n",
    "plt.show()"
   ]
  },
  {
   "cell_type": "code",
   "execution_count": null,
   "metadata": {},
   "outputs": [],
   "source": [
    "df_processed = pd.get_dummies(df, columns=['smoking_history', 'gender'], \n",
    "                              drop_first=True)\n",
    "df_processed"
   ]
  },
  {
   "cell_type": "code",
   "execution_count": null,
   "metadata": {},
   "outputs": [],
   "source": [
    "from sklearn import preprocessing\n",
    "\n",
    "scaler = preprocessing.MinMaxScaler()\n",
    "\n",
    "names = df_processed.columns\n",
    "d = scaler.fit_transform(df_processed)\n",
    "\n",
    "df_processed = pd.DataFrame(d, columns=names)\n",
    "print(len(df_processed))\n",
    "df_processed.head()"
   ]
  },
  {
   "cell_type": "code",
   "execution_count": null,
   "metadata": {},
   "outputs": [],
   "source": [
    "# Разделите датафрейм на тренировочный и остаточный набор данных\n",
    "train_df, temp_df = train_test_split(df_processed, test_size=0.3, random_state=42)\n",
    "\n",
    "train_X = train_df.drop(columns='diabetes')\n",
    "train_y = train_df['diabetes']\n",
    "\n",
    "# Разделите остаточный набор данных на валидационный и тестовый наборы данных\n",
    "val_df, test_df = train_test_split(temp_df, test_size=0.5, random_state=42)\n",
    "\n",
    "val_X = val_df.drop(columns='diabetes')\n",
    "val_y = val_df['diabetes']\n",
    "\n",
    "test_X = test_df.drop(columns='diabetes')\n",
    "test_y = test_df['diabetes']\n",
    "\n",
    "# Выведите размеры полученных наборов данных\n",
    "print(\"Размер тренировочного набора данных:\", train_df.shape)\n",
    "print(\"Размер валидационного набора данных:\", val_df.shape)\n",
    "print(\"Размер тестового набора данных:\", test_df.shape)"
   ]
  },
  {
   "cell_type": "code",
   "execution_count": null,
   "metadata": {},
   "outputs": [],
   "source": [
    "from imblearn.under_sampling import NearMiss\n",
    "\n",
    "nm = NearMiss(version=1)\n",
    "train_X_nm, train_y_nm = nm.fit_resample(train_X, train_y)\n",
    "len(train_X_nm)"
   ]
  },
  {
   "cell_type": "code",
   "execution_count": null,
   "metadata": {},
   "outputs": [],
   "source": [
    "from imblearn.under_sampling import NearMiss\n",
    "\n",
    "nm = NearMiss(version=1)\n",
    "train_X_nm, train_y_nm = nm.fit_resample(train_X, train_y)\n",
    "len(train_X_nm)"
   ]
  },
  {
   "cell_type": "code",
   "execution_count": null,
   "metadata": {},
   "outputs": [],
   "source": [
    "model = KNeighborsClassifier(n_neighbors=100)\n",
    "model.fit(train_X_nm, train_y_nm)\n",
    "pred_y = model.predict(test_X)\n",
    "\n",
    "print(f'Accuracy {round(accuracy_score(test_y, pred_y), 4)}')\n",
    "print(f'F1 {round(f1_score(test_y, pred_y), 4)}')\n",
    "print(f'Precision {round(precision_score(test_y, pred_y), 4)}')\n",
    "print(f'Recall {round(recall_score(test_y, pred_y), 4)}')"
   ]
  },
  {
   "cell_type": "code",
   "execution_count": null,
   "metadata": {},
   "outputs": [],
   "source": [
    "model = KNN(countNeigbor=100, method='kdtree')\n",
    "model.fit(train_X_nm, train_y_nm)\n",
    "pred_y = model.predict(test_X)\n",
    "\n",
    "print(f'Accuracy {round(accuracy_score(test_y, pred_y), 4)}')\n",
    "print(f'F1 {round(f1_score(test_y, pred_y), 4)}')\n",
    "print(f'Precision {round(precision_score(test_y, pred_y), 4)}')\n",
    "print(f'Recall {round(recall_score(test_y, pred_y), 4)}')"
   ]
  },
  {
   "cell_type": "code",
   "execution_count": null,
   "metadata": {},
   "outputs": [],
   "source": [
    "model = KNN_weight(countNeigbor=100, method='kdtree', weight_func= lambda x : 1/(x+0.00001))\n",
    "model.fit(train_X_nm, train_y_nm)\n",
    "pred_y = model.predict(test_X)\n",
    "\n",
    "print(f'Accuracy {round(accuracy_score(test_y, pred_y), 4)}')\n",
    "print(f'F1 {round(f1_score(test_y, pred_y), 4)}')\n",
    "print(f'Precision {round(precision_score(test_y, pred_y), 4)}')\n",
    "print(f'Recall {round(recall_score(test_y, pred_y), 4)}')"
   ]
  },
  {
   "cell_type": "code",
   "execution_count": null,
   "metadata": {},
   "outputs": [],
   "source": [
    "model = ParzenWindowFixedWidth(width=0.15, method='kdtree')\n",
    "model.fit(train_X_nm, train_y_nm)\n",
    "pred_y = model.predict(test_X)\n",
    "\n",
    "print(f'Accuracy {round(accuracy_score(test_y, pred_y), 4)}')\n",
    "print(f'F1 {round(f1_score(test_y, pred_y), 4)}')\n",
    "print(f'Precision {round(precision_score(test_y, pred_y), 4)}')\n",
    "print(f'Recall {round(recall_score(test_y, pred_y), 4)}')"
   ]
  },
  {
   "cell_type": "code",
   "execution_count": null,
   "metadata": {},
   "outputs": [],
   "source": [
    "model = ParzenWindowVariableWidth(countNeighbor=100, method='kdtree')\n",
    "model.fit(train_X_nm, train_y_nm)\n",
    "pred_y = model.predict(test_X)\n",
    "\n",
    "print(f'Accuracy {round(accuracy_score(test_y, pred_y), 4)}')\n",
    "print(f'F1 {round(f1_score(test_y, pred_y), 4)}')\n",
    "print(f'Precision {round(precision_score(test_y, pred_y), 4)}')\n",
    "print(f'Recall {round(recall_score(test_y, pred_y), 4)}')"
   ]
  },
  {
   "cell_type": "code",
   "execution_count": null,
   "metadata": {},
   "outputs": [],
   "source": [
    "pred_y = np.array([0 for _ in range(len(test_y))])\n",
    "print(f'Accuracy {round(accuracy_score(test_y, pred_y), 4)}')"
   ]
  },
  {
   "cell_type": "code",
   "execution_count": null,
   "metadata": {},
   "outputs": [],
   "source": [
    "model = PotentialFunction(width=0.01, eps=0.05, method='kdtree')\n",
    "model.fit(train_X_nm.sample(n=1000), train_y_nm.sample(n=1000))"
   ]
  },
  {
   "cell_type": "code",
   "execution_count": null,
   "metadata": {},
   "outputs": [],
   "source": [
    "pred_y = model.predict(test_X)\n",
    "\n",
    "print(f'Accuracy {round(accuracy_score(test_y, pred_y), 4)}')\n",
    "print(f'F1 {round(f1_score(test_y, pred_y), 4)}')\n",
    "print(f'Precision {round(precision_score(test_y, pred_y), 4)}')\n",
    "print(f'Recall {round(recall_score(test_y, pred_y), 4)}')"
   ]
  }
 ],
 "metadata": {
  "kernelspec": {
   "display_name": "Python 3",
   "language": "python",
   "name": "python3"
  },
  "language_info": {
   "codemirror_mode": {
    "name": "ipython",
    "version": 3
   },
   "file_extension": ".py",
   "mimetype": "text/x-python",
   "name": "python",
   "nbconvert_exporter": "python",
   "pygments_lexer": "ipython3",
   "version": "3.11.0"
  },
  "orig_nbformat": 4
 },
 "nbformat": 4,
 "nbformat_minor": 2
}
