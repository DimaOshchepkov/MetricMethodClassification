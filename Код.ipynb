{
 "cells": [
  {
   "cell_type": "code",
   "execution_count": 32,
   "metadata": {},
   "outputs": [],
   "source": [
    "import numpy as np\n",
    "import pandas as pd\n",
    "from abc import ABC, abstractmethod\n",
    "from sklearn.neighbors import KDTree\n",
    "from sklearn.datasets import load_iris\n",
    "from sklearn.metrics import accuracy_score\n",
    "from sklearn.model_selection import train_test_split\n",
    "\n",
    "import matplotlib.pyplot as plt\n"
   ]
  },
  {
   "cell_type": "code",
   "execution_count": 33,
   "metadata": {},
   "outputs": [],
   "source": [
    "class IMetric(ABC):\n",
    "\n",
    "    @abstractmethod\n",
    "    def get_distances(self, data : pd.DataFrame, point : pd.Series) -> np.ndarray:\n",
    "        pass\n",
    "\n",
    "    @abstractmethod\n",
    "    def get_distance(self, data : pd.Series, point : pd.Series) -> float:\n",
    "        pass"
   ]
  },
  {
   "cell_type": "code",
   "execution_count": 34,
   "metadata": {},
   "outputs": [],
   "source": [
    "class CosineMetric(IMetric):\n",
    "\n",
    "    def get_distances(self, data : pd.DataFrame, point : pd.Series) -> np.ndarray:   \n",
    "        return (np.ones(len(data)) - data.dot(point) / \n",
    "                (np.linalg.norm(data, axis=1) * np.linalg.norm(point)))\n",
    "        \n",
    "    def get_distance(self, data : pd.Series, point : pd.Series) -> float:\n",
    "        return (1 - data.dot(point) / \n",
    "                    (np.linalg.norm(data) * np.linalg.norm(point)))\n",
    "    \n"
   ]
  },
  {
   "cell_type": "code",
   "execution_count": 35,
   "metadata": {},
   "outputs": [],
   "source": [
    "class ManhattanMetric(IMetric):\n",
    "\n",
    "    def get_distances(self, data : pd.DataFrame, point : pd.Series) -> np.ndarray:\n",
    "        return np.sum(np.abs(data - point), axis=1)\n",
    "    \n",
    "    def get_distance(self, data : pd.Series, point : pd.Series) -> float:\n",
    "        return np.sum(np.abs(data - point))"
   ]
  },
  {
   "cell_type": "code",
   "execution_count": 36,
   "metadata": {},
   "outputs": [],
   "source": [
    "class EuclideanMetric(IMetric):\n",
    "\n",
    "    def get_distances(self, data : pd.DataFrame, point : pd.Series) -> np.ndarray:\n",
    "        return np.linalg.norm(data - point, axis=1)\n",
    "    \n",
    "    def get_distance(self, data : pd.Series, point : pd.Series) -> float:\n",
    "        return np.linalg.norm(data - point)"
   ]
  },
  {
   "cell_type": "code",
   "execution_count": 37,
   "metadata": {},
   "outputs": [
    {
     "name": "stdout",
     "output_type": "stream",
     "text": [
      "   price  count\n",
      "0      1     10\n",
      "1      2     12\n",
      "2      3      7\n",
      "[ 1 10]\n",
      "0    0.000000\n",
      "1    0.002143\n",
      "2    0.046220\n",
      "dtype: float64\n",
      "0    0\n",
      "1    3\n",
      "2    5\n",
      "dtype: int64\n",
      "[0.         2.23606798 3.60555128]\n",
      "0.0021430509496885852\n",
      "3\n",
      "2.23606797749979\n"
     ]
    }
   ],
   "source": [
    "cityblock_metric : IMetric = ManhattanMetric()\n",
    "cosine_metric : IMetric = CosineMetric()\n",
    "euclidian_metric : IMetric = EuclideanMetric()\n",
    "\n",
    "data = pd.DataFrame({\"price\":np.array([1, 2, 3]),\n",
    "   \"count\": np.array([10, 12, 7])})\n",
    "\n",
    "point = np.array([1, 10])\n",
    "\n",
    "print(data)\n",
    "print(point)\n",
    "#manhattan_metric.get_distances(data, point)\n",
    "print(cosine_metric.get_distances(data, point))\n",
    "print(cityblock_metric.get_distances(data, point))\n",
    "print(euclidian_metric.get_distances(data, point))\n",
    "\n",
    "print(cosine_metric.get_distance(data.iloc[1], point))\n",
    "print(cityblock_metric.get_distance(data.iloc[1], point))\n",
    "print(euclidian_metric.get_distance(data.iloc[1], point))"
   ]
  },
  {
   "cell_type": "code",
   "execution_count": 38,
   "metadata": {},
   "outputs": [],
   "source": [
    "class MetricsFactory:\n",
    "\n",
    "    __exist_metrics : list = [\"euclidean\", \"cityblock\", 'cosine']\n",
    "\n",
    "    @property\n",
    "    def exist_metrics(self) -> list:\n",
    "        return self.__exist_metrics\n",
    "        \n",
    "    def metrics_exist(self, name : str) -> bool:\n",
    "        return name in self.__exist_metrics\n",
    "\n",
    "    def get_metrics(self, name : str) -> IMetric:\n",
    "        if name == \"euclidean\":\n",
    "            return EuclideanMetric()\n",
    "        elif name == \"cityblock\":\n",
    "            return ManhattanMetric()\n",
    "        elif name == 'cosine':\n",
    "            return CosineMetric()\n",
    "            "
   ]
  },
  {
   "cell_type": "code",
   "execution_count": 39,
   "metadata": {},
   "outputs": [],
   "source": [
    "class IKernel(ABC):\n",
    "    @abstractmethod\n",
    "    def kernel_func(self, x : float) -> float:\n",
    "        raise NotImplementedError()"
   ]
  },
  {
   "cell_type": "code",
   "execution_count": 40,
   "metadata": {},
   "outputs": [],
   "source": [
    "class RectangularKernel(IKernel):\n",
    "\n",
    "    def kernel_func(self, r: float) -> float:\n",
    "        if np.abs(r) <= 1:\n",
    "            return 0.5\n",
    "        else:\n",
    "            return 0"
   ]
  },
  {
   "cell_type": "code",
   "execution_count": 41,
   "metadata": {},
   "outputs": [],
   "source": [
    "class GaussianKernel(IKernel):\n",
    "\n",
    "    def kernel_func(self, r: float) -> float:\n",
    "        return 1/np.sqrt(2 * np.pi) * np.exp(-2 * np.power(r, 2))"
   ]
  },
  {
   "cell_type": "code",
   "execution_count": 42,
   "metadata": {},
   "outputs": [],
   "source": [
    "class DefaulKernel(IKernel):\n",
    "\n",
    "    def kernel_func(self, x: float) -> float:\n",
    "        return x"
   ]
  },
  {
   "cell_type": "code",
   "execution_count": 43,
   "metadata": {},
   "outputs": [],
   "source": [
    "class KernelFactory():\n",
    "    \n",
    "    __exist_kernel : list = [\"rectangular\", \"gaussian\"]\n",
    "\n",
    "    @property\n",
    "    def exist_kernel(self) -> list:\n",
    "        return self.__exist_kernel\n",
    "    \n",
    "    def kernel_exist(self, name : str) -> bool:\n",
    "        return name in self.__exist_kernel\n",
    "\n",
    "    def get_kernel(self, name_kernel : str) -> IKernel:\n",
    "        if name_kernel == \"rectangular\":\n",
    "            return RectangularKernel()\n",
    "        elif name_kernel == \"gaussian\":\n",
    "            return GaussianKernel()\n"
   ]
  },
  {
   "cell_type": "code",
   "execution_count": 44,
   "metadata": {},
   "outputs": [],
   "source": [
    "class IMethodOfGetNeighbours(ABC):\n",
    "    \n",
    "    @abstractmethod\n",
    "    def __init__(self, metric : str) -> None:\n",
    "        raise NotImplementedError()\n",
    "\n",
    "    @abstractmethod\n",
    "    def preprocessing(self, data : pd.DataFrame) -> None:\n",
    "        raise NotImplementedError()\n",
    "        \n",
    "    @abstractmethod\n",
    "    def get_neighbours(self, data : pd.DataFrame, point : pd.Series, knn : int,\n",
    "                        width : float = -1) -> tuple[np.ndarray, np.ndarray]:\n",
    "        raise NotImplementedError()"
   ]
  },
  {
   "cell_type": "code",
   "execution_count": 45,
   "metadata": {},
   "outputs": [],
   "source": [
    "class KDTreeGetterNeighbours(IMethodOfGetNeighbours):\n",
    "    \n",
    "    __kdtree : KDTree\n",
    "    __metric : str\n",
    "    def __init__(self, metric : str) -> None:\n",
    "        self.__metric = metric\n",
    "\n",
    "    def preprocessing(self, data: pd.DataFrame) -> None:\n",
    "        self.__kdtree = KDTree(data, metric=self.__metric.get_distance)\n",
    "\n",
    "    def get_neighbours(self, point: pd.Series, knn : int = -1,\n",
    "                        width : float = -1) -> tuple[np.ndarray, np.ndarray]:\n",
    "\n",
    "        if width == -1 and knn != -1:\n",
    "            distance, nearest_neighbor_index = self.__kdtree.query(point, k=knn, metric=self.__metric)\n",
    "            return nearest_neighbor_index, distance\n",
    "        elif width != -1 and knn == -1:\n",
    "            # Define a condition\n",
    "            nearest_neighbor_index = self.__kdtree.query_ball_point(point, width, metric=self.__metric)\n",
    "            return nearest_neighbor_index, self.__kdtree[nearest_neighbor_index]\n",
    "\n",
    "\n"
   ]
  },
  {
   "cell_type": "code",
   "execution_count": 46,
   "metadata": {},
   "outputs": [],
   "source": [
    "class ExhaustiveSearchGetterNeighbours(IMethodOfGetNeighbours):\n",
    "\n",
    "    __data : pd.DataFrame\n",
    "    __metric : str\n",
    "    def __init__(self, metric : str) -> None:\n",
    "        self.__metric = metric\n",
    "\n",
    "    def preprocessing(self, data: pd.DataFrame) -> None:\n",
    "        self.__data = data\n",
    "\n",
    "    def get_neighbours(self, point: pd.Series, knn : int = -1,\n",
    "                        width : float = -1) -> tuple[np.ndarray, np.ndarray]:\n",
    "\n",
    "        distances = self.__metric.get_distances(self.__data, point)\n",
    "        if width == -1 and knn != -1: \n",
    "            nearest_neighbor_index = np.argpartition(distances, knn, axis=None)[:knn] \n",
    "            return nearest_neighbor_index, distances\n",
    "        elif width != -1 and knn == -1:\n",
    "            index_elem_less_width = np.where(distances < width)[0]\n",
    "            return index_elem_less_width, np.take(distances, index_elem_less_width)\n"
   ]
  },
  {
   "cell_type": "code",
   "execution_count": 47,
   "metadata": {},
   "outputs": [],
   "source": [
    "class MethodOfGetNeighboursFactory:\n",
    "\n",
    "    __exist_methods : list = [\"kdtree\", \"exhaustive\"]\n",
    "\n",
    "    @property\n",
    "    def exist_metrics(self) -> list:\n",
    "        return self.__exist_methods\n",
    "    \n",
    "    def method_exist(self, name : str) -> bool:\n",
    "        return name in self.__exist_methods\n",
    "\n",
    "    def get_method(self, name_method : str,\n",
    "                    metric : IMetric = EuclideanMetric()) -> IMethodOfGetNeighbours:\n",
    "        \n",
    "        if name_method == \"kdtree\":\n",
    "            return KDTreeGetterNeighbours(metric)\n",
    "        elif name_method == \"exhaustive\":\n",
    "            return ExhaustiveSearchGetterNeighbours(metric)\n"
   ]
  },
  {
   "cell_type": "code",
   "execution_count": 48,
   "metadata": {},
   "outputs": [],
   "source": [
    "class IMetricMethod(ABC):\n",
    "\n",
    "    __method : IMethodOfGetNeighbours\n",
    "    __methods_factory : MethodOfGetNeighboursFactory\n",
    "\n",
    "    __metric : IMetric\n",
    "    __metric_factory : MetricsFactory\n",
    "\n",
    "    def __init__(self, metric : str, method : str) -> None:\n",
    "        \n",
    "        self.__metric_factory = MetricsFactory()\n",
    "        self.__metric = self.__metric_factory.get_metrics(metric)\n",
    "\n",
    "        self.__methods_factory = MethodsFactory()\n",
    "        self.__method = self.__methods_factory.get_method(name_method=method, metric=self.__metric)\n",
    "\n",
    "    def fit(self, data : pd.Series) -> None:\n",
    "        pass\n",
    "\n",
    "    @abstractmethod\n",
    "    def __Get_Neighbor(self, train_Y : pd.Series, data_point : pd.Series) -> any:\n",
    "        raise NotImplementedError()\n",
    "\n",
    "    @abstractmethod\n",
    "    def predict(self, X_test : pd.DataFrame, Y_train : pd.Series) -> np.ndarray:\n",
    "        raise NotImplementedError()"
   ]
  },
  {
   "cell_type": "code",
   "execution_count": 49,
   "metadata": {},
   "outputs": [],
   "source": [
    "class OneNN(IMetricMethod):\n",
    "\n",
    "    def __init__(self, metric : str = \"euclidean\", method : str = \"exhaustive\") -> None:\n",
    "        super().__init__(self, metric, method)\n",
    "\n",
    "\n",
    "    def __Get_Neighbor(self, train_Y : pd.Series, data_point : pd.Series) -> any:\n",
    "        ''' Эта функция фозвращает класс соседа объекта data_point, который встречается чаще всего'''\n",
    "\n",
    "        nearest_index, distances = self.__method.get_neighbours(point=data_point, knn=1)\n",
    "        \n",
    "        c_neighbor = np.take(train_Y, nearest_index)\n",
    "        unique, counts = np.unique(c_neighbor, return_counts=True)\n",
    "\n",
    "        return unique[np.argmax(counts)]  \n",
    "    \n",
    "    def fit(self, data : pd.Series) -> None:\n",
    "        self.__method.preprocessing(data)\n",
    "\n",
    "    def predict(self, X_test : pd.DataFrame, Y_train : pd.Series) -> np.ndarray:\n",
    "        \n",
    "        predict = []\n",
    "        for row in np.array(X_test):\n",
    "            predict.append(self.__Get_Neighbor(Y_train, row, 1))\n",
    "\n",
    "        return np.array(predict) "
   ]
  },
  {
   "cell_type": "code",
   "execution_count": 50,
   "metadata": {},
   "outputs": [],
   "source": [
    "class KNN(IMetricMethod):\n",
    "\n",
    "    def __init__(self, metric : str = \"euclidean\", method : str = \"exhaustive\") -> None:\n",
    "        super().__init__(self, metric, method)\n",
    "\n",
    "    def __Get_Neighbor(self, train_Y : pd.Series, data_point : pd.Series, countNeighbor : int) -> any:\n",
    "        ''' Эта функция фозвращает класс соседа объекта data_point, который встречается чаще всего'''\n",
    "\n",
    "        nearest_index, distances = self.__method.get_neighbours(point=data_point, knn=countNeighbor)\n",
    "       \n",
    "        c_neighbor = np.take(train_Y, nearest_index)\n",
    "        unique, counts = np.unique(c_neighbor, return_counts=True)\n",
    "\n",
    "        return unique[np.argmax(counts)]  \n",
    "    \n",
    "    def fit(self, data : pd.Series) -> None:\n",
    "        self.__method.preprocessing(data)\n",
    "\n",
    "    def predict(self, X_test : pd.DataFrame,\n",
    "                Y_train : pd.Series, count_neigbors : int = 10) -> np.ndarray:\n",
    "        \n",
    "        predict = []\n",
    "        for row in np.array(X_test):\n",
    "            predict.append(self.__Get_Neighbor(Y_train, row, count_neigbors))\n",
    "\n",
    "        return np.array(predict) "
   ]
  },
  {
   "cell_type": "code",
   "execution_count": 51,
   "metadata": {},
   "outputs": [],
   "source": [
    "class ParzenWindowFixedWidth(IMetricMethod):\n",
    "\n",
    "    __kernel : IKernel\n",
    "    __kernel_factory = KernelFactory()\n",
    "\n",
    "    def __init__(self, metric : str = \"euclidean\", method : str = \"exhaustive\",\n",
    "                 kernel : str = \"default\") -> None:\n",
    "        super().__init__(metric, method)\n",
    "        self.__kernel = self.__kernel_factory.get_kernel(name_kernel=kernel)\n",
    "\n",
    "    def __Get_Neighbor(self, train_Y : pd.Series,\n",
    "                        data_point : pd.Series, width : float) -> any:\n",
    "        ''' Эта функция фозвращает класс соседа объекта data_point, который встречается чаще всего'''\n",
    "\n",
    "        nearest_index, distances = self.__method.get_neighbours(point=data_point, width=width)\n",
    "\n",
    "        nearest = {cl : 0 for cl in np.unique(train_Y)}\n",
    "        for i in nearest_index:\n",
    "            nearest[train_Y.iloc[i]] += self.__kernel.kernel_func(distances[i]/width)\n",
    "\n",
    "        return max(nearest, key=nearest.get)\n",
    "    \n",
    "    def fit(self, data : pd.Series) -> None:\n",
    "        self.__method.preprocessing(data)\n",
    "\n",
    "    def predict(self, X_test : pd.DataFrame,\n",
    "                Y_train : pd.Series, width : float = 10) -> np.ndarray:\n",
    "        \n",
    "        predict = []\n",
    "        for row in np.array(X_test):\n",
    "            predict.append(self.__Get_Neighbor(Y_train, row, width))\n",
    "\n",
    "        return np.array(predict) "
   ]
  },
  {
   "cell_type": "code",
   "execution_count": 52,
   "metadata": {},
   "outputs": [],
   "source": [
    "class ParzenWindowVariableWidth (IMetricMethod):\n",
    "\n",
    "    __kernel : IKernel\n",
    "    __kernel_factory = KernelFactory()\n",
    "\n",
    "    def __init__(self, metric : str = \"euclidean\", method : str = \"exhaustive\",\n",
    "                 kernel : str = \"default\") -> None:\n",
    "                 \n",
    "        super().__init__(metric, method)\n",
    "        self.__kernel = self.__kernel_factory.get_kernel(name_kernel=kernel)\n",
    "\n",
    "    def __Get_Neighbor(self, train_Y : pd.Series,\n",
    "                        data_point : pd.Series, k : int) -> any:\n",
    "        ''' Эта функция фозвращает класс соседа объекта data_point, который встречается чаще всего'''\n",
    "\n",
    "        nearest_index, distances = self.__method.get_neighbours(point=data_point, knn=k+1)\n",
    "        width = distances[k]\n",
    "\n",
    "        nearest = {cl : 0 for cl in np.unique(train_Y)}\n",
    "        for i in nearest_index[:k+1]:\n",
    "            nearest[train_Y.iloc[i]] += self.__kernel.kernel_func(distances[i]/width)\n",
    "\n",
    "        return max(nearest, key=nearest.get)\n",
    "    \n",
    "    def fit(self, data : pd.Series) -> None:\n",
    "        self.__method.preprocessing(data)\n",
    "\n",
    "    def predict(self, X_test : pd.DataFrame,\n",
    "                Y_train : pd.Series, k : int = 10) -> np.ndarray:\n",
    "        \n",
    "        predict = []\n",
    "        for row in np.array(X_test):\n",
    "            predict.append(self.__Get_Neighbor(Y_train, row, k))\n",
    "\n",
    "        return np.array(predict) "
   ]
  },
  {
   "cell_type": "code",
   "execution_count": 53,
   "metadata": {},
   "outputs": [
    {
     "data": {
      "text/plain": [
       "array([0, 0, 1, 0, 0, 2, 1, 0, 0, 0, 2, 1, 1, 0, 0, 1, 2, 2, 1, 2, 1, 2,\n",
       "       1, 0, 2, 1, 0, 0, 0, 1, 2, 0, 0, 0, 1, 0, 1, 2, 0, 1, 2, 0, 2, 2,\n",
       "       1, 1, 2, 1, 0, 1, 2, 0, 0, 1, 1, 0, 2, 0, 0, 1, 1, 2, 1, 2, 2, 1,\n",
       "       0, 0, 2, 2, 0, 0, 0, 1, 2, 0, 2, 2, 0, 1, 1, 2, 1, 2, 0, 2, 1, 2,\n",
       "       1, 1, 1, 0, 1, 1, 0, 1, 2, 2, 0, 1, 2, 2, 0, 2, 0, 1, 2, 2, 1, 2,\n",
       "       1, 1, 2, 2, 0, 1, 2, 0, 1, 2])"
      ]
     },
     "execution_count": 53,
     "metadata": {},
     "output_type": "execute_result"
    }
   ],
   "source": [
    "iris = load_iris()\n",
    "X_train, X_test, y_train, y_test = train_test_split(iris.data, iris.target,\n",
    "                                                       test_size=0.2, random_state=42)\n",
    "y_train"
   ]
  },
  {
   "cell_type": "code",
   "execution_count": null,
   "metadata": {},
   "outputs": [],
   "source": []
  },
  {
   "cell_type": "code",
   "execution_count": null,
   "metadata": {},
   "outputs": [],
   "source": []
  }
 ],
 "metadata": {
  "kernelspec": {
   "display_name": "Python 3",
   "language": "python",
   "name": "python3"
  },
  "language_info": {
   "codemirror_mode": {
    "name": "ipython",
    "version": 3
   },
   "file_extension": ".py",
   "mimetype": "text/x-python",
   "name": "python",
   "nbconvert_exporter": "python",
   "pygments_lexer": "ipython3",
   "version": "3.10.6"
  },
  "orig_nbformat": 4,
  "vscode": {
   "interpreter": {
    "hash": "2469a70536e4d2335a2ea8907942d0699c37342a371ac185bdb5b0aa6f073890"
   }
  }
 },
 "nbformat": 4,
 "nbformat_minor": 2
}
