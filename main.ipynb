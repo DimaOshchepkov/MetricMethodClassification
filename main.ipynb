{
 "cells": [
  {
   "cell_type": "code",
   "execution_count": 1,
   "metadata": {},
   "outputs": [],
   "source": [
    "import numpy as np\n",
    "import pandas as pd\n",
    "from MetricMethod import *\n",
    "from sklearn.datasets import load_iris\n",
    "from sklearn.metrics import accuracy_score\n",
    "from sklearn.model_selection import train_test_split\n"
   ]
  },
  {
   "cell_type": "code",
   "execution_count": 2,
   "metadata": {},
   "outputs": [
    {
     "data": {
      "text/plain": [
       "array([0, 0, 1, 0, 0, 2, 1, 0, 0, 0, 2, 1, 1, 0, 0, 1, 2, 2, 1, 2, 1, 2,\n",
       "       1, 0, 2, 1, 0, 0, 0, 1, 2, 0, 0, 0, 1, 0, 1, 2, 0, 1, 2, 0, 2, 2,\n",
       "       1, 1, 2, 1, 0, 1, 2, 0, 0, 1, 1, 0, 2, 0, 0, 1, 1, 2, 1, 2, 2, 1,\n",
       "       0, 0, 2, 2, 0, 0, 0, 1, 2, 0, 2, 2, 0, 1, 1, 2, 1, 2, 0, 2, 1, 2,\n",
       "       1, 1, 1, 0, 1, 1, 0, 1, 2, 2, 0, 1, 2, 2, 0, 2, 0, 1, 2, 2, 1, 2,\n",
       "       1, 1, 2, 2, 0, 1, 2, 0, 1, 2])"
      ]
     },
     "execution_count": 2,
     "metadata": {},
     "output_type": "execute_result"
    }
   ],
   "source": [
    "iris = load_iris()\n",
    "X_train, X_test, y_train, y_test = train_test_split(iris.data, iris.target,\n",
    "                                                       test_size=0.2, random_state=42)\n",
    "y_train"
   ]
  },
  {
   "cell_type": "code",
   "execution_count": 3,
   "metadata": {},
   "outputs": [
    {
     "name": "stdout",
     "output_type": "stream",
     "text": [
      "1.0\n"
     ]
    }
   ],
   "source": [
    "knn = KNN(metric=\"cosine\")\n",
    "knn.fit(X_train)\n",
    "predict = knn.predict(X_test, y_train)\n",
    "print(accuracy_score(y_test, predict))"
   ]
  },
  {
   "cell_type": "code",
   "execution_count": 8,
   "metadata": {},
   "outputs": [
    {
     "ename": "IndexError",
     "evalue": "arrays used as indices must be of integer (or boolean) type",
     "output_type": "error",
     "traceback": [
      "\u001b[1;31m---------------------------------------------------------------------------\u001b[0m",
      "\u001b[1;31mIndexError\u001b[0m                                Traceback (most recent call last)",
      "\u001b[1;32md:\\Исследование метрических методов классификации\\MetricMethodClassification\\main.ipynb Cell 4\u001b[0m in \u001b[0;36m3\n\u001b[0;32m      <a href='vscode-notebook-cell:/d%3A/%D0%98%D1%81%D1%81%D0%BB%D0%B5%D0%B4%D0%BE%D0%B2%D0%B0%D0%BD%D0%B8%D0%B5%20%D0%BC%D0%B5%D1%82%D1%80%D0%B8%D1%87%D0%B5%D1%81%D0%BA%D0%B8%D1%85%20%D0%BC%D0%B5%D1%82%D0%BE%D0%B4%D0%BE%D0%B2%20%D0%BA%D0%BB%D0%B0%D1%81%D1%81%D0%B8%D1%84%D0%B8%D0%BA%D0%B0%D1%86%D0%B8%D0%B8/MetricMethodClassification/main.ipynb#W3sZmlsZQ%3D%3D?line=0'>1</a>\u001b[0m parzen_window_fixed \u001b[39m=\u001b[39m ParzenWindowFixedWidth(width\u001b[39m=\u001b[39m\u001b[39m1\u001b[39m, method\u001b[39m=\u001b[39m\u001b[39m\"\u001b[39m\u001b[39mkdtree\u001b[39m\u001b[39m\"\u001b[39m)\n\u001b[0;32m      <a href='vscode-notebook-cell:/d%3A/%D0%98%D1%81%D1%81%D0%BB%D0%B5%D0%B4%D0%BE%D0%B2%D0%B0%D0%BD%D0%B8%D0%B5%20%D0%BC%D0%B5%D1%82%D1%80%D0%B8%D1%87%D0%B5%D1%81%D0%BA%D0%B8%D1%85%20%D0%BC%D0%B5%D1%82%D0%BE%D0%B4%D0%BE%D0%B2%20%D0%BA%D0%BB%D0%B0%D1%81%D1%81%D0%B8%D1%84%D0%B8%D0%BA%D0%B0%D1%86%D0%B8%D0%B8/MetricMethodClassification/main.ipynb#W3sZmlsZQ%3D%3D?line=1'>2</a>\u001b[0m parzen_window_fixed\u001b[39m.\u001b[39mfit(X_train)\n\u001b[1;32m----> <a href='vscode-notebook-cell:/d%3A/%D0%98%D1%81%D1%81%D0%BB%D0%B5%D0%B4%D0%BE%D0%B2%D0%B0%D0%BD%D0%B8%D0%B5%20%D0%BC%D0%B5%D1%82%D1%80%D0%B8%D1%87%D0%B5%D1%81%D0%BA%D0%B8%D1%85%20%D0%BC%D0%B5%D1%82%D0%BE%D0%B4%D0%BE%D0%B2%20%D0%BA%D0%BB%D0%B0%D1%81%D1%81%D0%B8%D1%84%D0%B8%D0%BA%D0%B0%D1%86%D0%B8%D0%B8/MetricMethodClassification/main.ipynb#W3sZmlsZQ%3D%3D?line=2'>3</a>\u001b[0m predict \u001b[39m=\u001b[39m parzen_window_fixed\u001b[39m.\u001b[39;49mpredict(X_test, y_train)\n\u001b[0;32m      <a href='vscode-notebook-cell:/d%3A/%D0%98%D1%81%D1%81%D0%BB%D0%B5%D0%B4%D0%BE%D0%B2%D0%B0%D0%BD%D0%B8%D0%B5%20%D0%BC%D0%B5%D1%82%D1%80%D0%B8%D1%87%D0%B5%D1%81%D0%BA%D0%B8%D1%85%20%D0%BC%D0%B5%D1%82%D0%BE%D0%B4%D0%BE%D0%B2%20%D0%BA%D0%BB%D0%B0%D1%81%D1%81%D0%B8%D1%84%D0%B8%D0%BA%D0%B0%D1%86%D0%B8%D0%B8/MetricMethodClassification/main.ipynb#W3sZmlsZQ%3D%3D?line=3'>4</a>\u001b[0m \u001b[39mprint\u001b[39m(accuracy_score(y_test, predict))\n\u001b[0;32m      <a href='vscode-notebook-cell:/d%3A/%D0%98%D1%81%D1%81%D0%BB%D0%B5%D0%B4%D0%BE%D0%B2%D0%B0%D0%BD%D0%B8%D0%B5%20%D0%BC%D0%B5%D1%82%D1%80%D0%B8%D1%87%D0%B5%D1%81%D0%BA%D0%B8%D1%85%20%D0%BC%D0%B5%D1%82%D0%BE%D0%B4%D0%BE%D0%B2%20%D0%BA%D0%BB%D0%B0%D1%81%D1%81%D0%B8%D1%84%D0%B8%D0%BA%D0%B0%D1%86%D0%B8%D0%B8/MetricMethodClassification/main.ipynb#W3sZmlsZQ%3D%3D?line=4'>5</a>\u001b[0m \u001b[39mprint\u001b[39m(predict)\n",
      "File \u001b[1;32md:\\Исследование метрических методов классификации\\MetricMethodClassification\\MetricMethod\\MetricMethods.py:171\u001b[0m, in \u001b[0;36mParzenWindowFixedWidth.predict\u001b[1;34m(self, X_test, Y_train)\u001b[0m\n\u001b[0;32m    169\u001b[0m predict \u001b[39m=\u001b[39m []\n\u001b[0;32m    170\u001b[0m \u001b[39mfor\u001b[39;00m row \u001b[39min\u001b[39;00m np\u001b[39m.\u001b[39marray(X_test):\n\u001b[1;32m--> 171\u001b[0m     predict\u001b[39m.\u001b[39mappend(\u001b[39mself\u001b[39;49m\u001b[39m.\u001b[39;49m__Get_Neighbor(Y_train, row))\n\u001b[0;32m    173\u001b[0m \u001b[39mreturn\u001b[39;00m np\u001b[39m.\u001b[39marray(predict)\n",
      "File \u001b[1;32md:\\Исследование метрических методов классификации\\MetricMethodClassification\\MetricMethod\\MetricMethods.py:160\u001b[0m, in \u001b[0;36mParzenWindowFixedWidth.__Get_Neighbor\u001b[1;34m(self, train_Y, data_point)\u001b[0m\n\u001b[0;32m    158\u001b[0m nearest \u001b[39m=\u001b[39m {cl : \u001b[39m0\u001b[39m \u001b[39mfor\u001b[39;00m cl \u001b[39min\u001b[39;00m np\u001b[39m.\u001b[39munique(train_Y)}\n\u001b[0;32m    159\u001b[0m \u001b[39mfor\u001b[39;00m ind, dist \u001b[39min\u001b[39;00m \u001b[39mzip\u001b[39m(nearest_index, distances):\n\u001b[1;32m--> 160\u001b[0m     nearest[train_Y[ind]] \u001b[39m+\u001b[39m\u001b[39m=\u001b[39m \u001b[39mself\u001b[39m\u001b[39m.\u001b[39m__kernel\u001b[39m.\u001b[39mkernel_func(dist\u001b[39m/\u001b[39m\u001b[39mself\u001b[39m\u001b[39m.\u001b[39m__width)\n\u001b[0;32m    162\u001b[0m \u001b[39mreturn\u001b[39;00m \u001b[39mmax\u001b[39m(nearest, key\u001b[39m=\u001b[39mnearest\u001b[39m.\u001b[39mget)\n",
      "\u001b[1;31mIndexError\u001b[0m: arrays used as indices must be of integer (or boolean) type"
     ]
    }
   ],
   "source": [
    "parzen_window_fixed = ParzenWindowFixedWidth(width=1, method=\"kdtree\")\n",
    "parzen_window_fixed.fit(X_train)\n",
    "predict = parzen_window_fixed.predict(X_test, y_train)\n",
    "print(accuracy_score(y_test, predict))\n",
    "print(predict)"
   ]
  },
  {
   "cell_type": "code",
   "execution_count": 7,
   "metadata": {},
   "outputs": [
    {
     "name": "stdout",
     "output_type": "stream",
     "text": [
      "1.0\n",
      "[1 0 2 1 1 0 1 2 1 1 2 0 0 0 0 1 2 1 1 2 0 2 0 2 2 2 2 2 0 0]\n"
     ]
    }
   ],
   "source": [
    "parzen_window_variable = ParzenWindowVariableWidth(countNeighbor=1)\n",
    "parzen_window_variable.fit(X_train)\n",
    "predict = parzen_window_variable.predict(X_test, y_train)\n",
    "print(accuracy_score(y_test, predict))\n",
    "print(predict)"
   ]
  }
 ],
 "metadata": {
  "kernelspec": {
   "display_name": "Python 3",
   "language": "python",
   "name": "python3"
  },
  "language_info": {
   "codemirror_mode": {
    "name": "ipython",
    "version": 3
   },
   "file_extension": ".py",
   "mimetype": "text/x-python",
   "name": "python",
   "nbconvert_exporter": "python",
   "pygments_lexer": "ipython3",
   "version": "3.11.0"
  },
  "orig_nbformat": 4
 },
 "nbformat": 4,
 "nbformat_minor": 2
}
