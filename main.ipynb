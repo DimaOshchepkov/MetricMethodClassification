{
 "cells": [
  {
   "cell_type": "code",
   "execution_count": 1,
   "metadata": {},
   "outputs": [],
   "source": [
    "import numpy as np\n",
    "import pandas as pd\n",
    "from MetricMethod import *\n",
    "from MetricMethod.Metrics import EuclideanMetric\n",
    "from sklearn.datasets import load_iris\n",
    "from sklearn.metrics import accuracy_score\n",
    "from sklearn.model_selection import train_test_split\n"
   ]
  },
  {
   "cell_type": "code",
   "execution_count": 2,
   "metadata": {},
   "outputs": [
    {
     "data": {
      "text/plain": [
       "array([0, 0, 1, 0, 0, 2, 1, 0, 0, 0, 2, 1, 1, 0, 0, 1, 2, 2, 1, 2, 1, 2,\n",
       "       1, 0, 2, 1, 0, 0, 0, 1, 2, 0, 0, 0, 1, 0, 1, 2, 0, 1, 2, 0, 2, 2,\n",
       "       1, 1, 2, 1, 0, 1, 2, 0, 0, 1, 1, 0, 2, 0, 0, 1, 1, 2, 1, 2, 2, 1,\n",
       "       0, 0, 2, 2, 0, 0, 0, 1, 2, 0, 2, 2, 0, 1, 1, 2, 1, 2, 0, 2, 1, 2,\n",
       "       1, 1, 1, 0, 1, 1, 0, 1, 2, 2, 0, 1, 2, 2, 0, 2, 0, 1, 2, 2, 1, 2,\n",
       "       1, 1, 2, 2, 0, 1, 2, 0, 1, 2])"
      ]
     },
     "execution_count": 2,
     "metadata": {},
     "output_type": "execute_result"
    }
   ],
   "source": [
    "iris = load_iris()\n",
    "X_train, X_test, y_train, y_test = train_test_split(iris.data, iris.target,\n",
    "                                                       test_size=0.2, random_state=42)\n",
    "y_train"
   ]
  },
  {
   "cell_type": "code",
   "execution_count": 3,
   "metadata": {},
   "outputs": [
    {
     "name": "stdout",
     "output_type": "stream",
     "text": [
      "1.0\n"
     ]
    }
   ],
   "source": [
    "knn = KNN(metric=\"cosine\")\n",
    "knn.fit(X_train, y_train)\n",
    "predict = knn.predict(X_test)\n",
    "print(accuracy_score(y_test, predict))"
   ]
  },
  {
   "cell_type": "code",
   "execution_count": 4,
   "metadata": {},
   "outputs": [
    {
     "name": "stdout",
     "output_type": "stream",
     "text": [
      "1.0\n",
      "[1 0 2 1 1 0 1 2 1 1 2 0 0 0 0 1 2 1 1 2 0 2 0 2 2 2 2 2 0 0]\n"
     ]
    }
   ],
   "source": [
    "parzen_window_fixed = ParzenWindowFixedWidth(width=1, method=\"kdtree\")\n",
    "parzen_window_fixed.fit(X_train, y_train)\n",
    "predict = parzen_window_fixed.predict(X_test)\n",
    "print(accuracy_score(y_test, predict))\n",
    "print(predict)"
   ]
  },
  {
   "cell_type": "code",
   "execution_count": 5,
   "metadata": {},
   "outputs": [
    {
     "name": "stdout",
     "output_type": "stream",
     "text": [
      "1.0\n",
      "[1 0 2 1 1 0 1 2 1 1 2 0 0 0 0 1 2 1 1 2 0 2 0 2 2 2 2 2 0 0]\n"
     ]
    }
   ],
   "source": [
    "parzen_window_variable = ParzenWindowVariableWidth(countNeighbor=5, method=\"kdtree\")\n",
    "parzen_window_variable.fit(X_train, y_train)\n",
    "predict = parzen_window_variable.predict(X_test)\n",
    "print(accuracy_score(y_test, predict))\n",
    "print(predict)"
   ]
  },
  {
   "cell_type": "code",
   "execution_count": 9,
   "metadata": {},
   "outputs": [
    {
     "name": "stdout",
     "output_type": "stream",
     "text": [
      "Dictionary with indexes of included vectors in distance range:\n",
      "[[ 0.          5.19615242 10.39230485]\n",
      " [ 5.19615242  0.          5.19615242]\n",
      " [10.39230485  5.19615242  0.        ]]\n",
      "{0: array([1], dtype=int64), 1: array([0, 2], dtype=int64), 2: array([1], dtype=int64)}\n"
     ]
    }
   ],
   "source": [
    "import numpy as np\n",
    "\n",
    "# Create a list of vectors\n",
    "vectors = np.array([[1, 2, 3],\n",
    "                    [4, 5, 6],\n",
    "                    [7, 8, 9]])\n",
    "\n",
    "# Calculate the distance matrix\n",
    "distances = np.linalg.norm(vectors[:, np.newaxis, :] - vectors[np.newaxis, :, :], axis=-1)\n",
    "\n",
    "# Define the distance range\n",
    "min_distance = 3\n",
    "max_distance = 7\n",
    "\n",
    "# Create an empty dictionary to store the results\n",
    "result_dict = {}\n",
    "\n",
    "# Loop through each vector and check if its distance falls within the distance range\n",
    "for i in range(len(vectors)):\n",
    "    vector_distance = distances[i]\n",
    "    # Get the indexes of vectors that fall within the distance range\n",
    "    included_indexes = np.where((vector_distance >= min_distance) & (vector_distance <= max_distance))[0]\n",
    "    # Add the included indexes to the dictionary with the vector index as the key\n",
    "    result_dict[i] = included_indexes\n",
    "\n",
    "print(\"Dictionary with indexes of included vectors in distance range:\")\n",
    "distances = np.array(distances)\n",
    "print(distances)\n",
    "print(result_dict)"
   ]
  },
  {
   "cell_type": "code",
   "execution_count": 5,
   "metadata": {},
   "outputs": [
    {
     "name": "stdout",
     "output_type": "stream",
     "text": [
      "2464121978384\n",
      "2464121978384\n"
     ]
    }
   ],
   "source": [
    "import numpy as np\n",
    "import pandas as pd\n",
    "from abc import ABC, abstractmethod\n",
    "\n",
    "class IMetric(ABC):\n",
    "    __instance = None\n",
    "\n",
    "    def __new__(cls, *args, **kwargs):\n",
    "        if cls.__instance is None:\n",
    "            cls.__instance = super().__new__(cls)\n",
    "\n",
    "        return cls.__instance\n",
    "    \n",
    "    def __del__(self):\n",
    "        IMetric.__instance = None\n",
    "    \n",
    "    @abstractmethod\n",
    "    def get_distances(self, data : pd.DataFrame, point : pd.Series) -> np.ndarray:\n",
    "        \"\"\"_summary_\n",
    "\n",
    "        Args:\n",
    "            data (pd.DataFrame): matrix of vectors, with each of which the distance to point will be calculated\n",
    "            point (pd.Series): vector from which distances will be calculated\n",
    "\n",
    "        Returns:\n",
    "            np.ndarray: Vector from distances\n",
    "        \"\"\"\n",
    "        pass\n",
    "\n",
    "    @abstractmethod\n",
    "    def get_distance(self, data : pd.Series, point : pd.Series) -> float:\n",
    "        \"\"\"\n",
    "        Args:\n",
    "            data (pd.Series): vector1\n",
    "            point (pd.Series): vector2\n",
    "\n",
    "        Returns:\n",
    "            float: distance between data and point\n",
    "        \"\"\"        \n",
    "        pass\n",
    "\n",
    "class EuclideanMetric(IMetric):\n",
    "\n",
    "    def get_distances(self, data : pd.DataFrame, point : pd.Series) -> np.ndarray:\n",
    "        return np.linalg.norm(data - point, axis=1)\n",
    "    \n",
    "    def get_distance(self, data : pd.Series, point : pd.Series) -> float:\n",
    "        return np.linalg.norm(data - point, axis=-1)\n",
    "    \n",
    "cl1 = EuclideanMetric()\n",
    "cl2 = EuclideanMetric()\n",
    "print(id(cl1))\n",
    "print(id(cl2))"
   ]
  }
 ],
 "metadata": {
  "kernelspec": {
   "display_name": "Python 3",
   "language": "python",
   "name": "python3"
  },
  "language_info": {
   "codemirror_mode": {
    "name": "ipython",
    "version": 3
   },
   "file_extension": ".py",
   "mimetype": "text/x-python",
   "name": "python",
   "nbconvert_exporter": "python",
   "pygments_lexer": "ipython3",
   "version": "3.11.0"
  },
  "orig_nbformat": 4
 },
 "nbformat": 4,
 "nbformat_minor": 2
}
